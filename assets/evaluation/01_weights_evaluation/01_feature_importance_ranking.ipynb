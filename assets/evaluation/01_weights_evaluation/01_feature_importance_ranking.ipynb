{
 "cells": [
  {
   "cell_type": "markdown",
   "metadata": {},
   "source": [
    "# Reproducibility Indicator Feature Importance Ranking using Random Forest with Mean Decrease Impurtiy (MDI)\n",
    "\n",
    "A machine learning model assigns an output to an input. In our case, whether a repository belongs to the reproducible or non-reproducible set. However, one would generally not only like to know what the result of this classification is but also which characteristics are most important for it.\n",
    "\n",
    "These insights can be helpful for many different things. For example, if the most important variables are known, less important ones could be deleted in order to increase the interpretability of the model at the expense of accuracy. This also results in a shorter training time, which is particularly noticeable with very large, complex data sets with many features.\n",
    "\n",
    "Feature importance can be determined using different approaches. We chose Mean Decrease Impurity using Random Forest. The advantages and limitations in our case are described in the respective sections below. Firstly, we want to explain the basic functionality.\n",
    "\n",
    "The implementation presented here was adapted from https://scikit-learn.org/stable/auto_examples/inspection/plot_permutation_importance.html.\n",
    "\n",
    "## Explaining Random Forest\n",
    "\n",
    "Random Forest is a supervised learning method that is often used in machine learning. The algorithm provides rules according to which many different decision trees are created randomly and uncorrelated. The criteria by which each tree makes decisions are determined randomly and are different for all trees. An overall result is then created from the set of individual decisions of the random trees (using a special ensemble method).\n",
    "\n",
    "One advantage of Random Forest is, for example, that in contrast to other methods (e.g. neural networks), the decisions made are comprehensible and therefore easier to check. In addition, the algorithm can also be used for different purposes.\n",
    "\n",
    "But although the individual trees are easy to understand, the contribution of the different features to the model is not so easy to assess. For this reason, we present a possible approach for carrying out this evaluation below.\n",
    "\n",
    "## Explaining Mean Decrease Impurity\n",
    "\n",
    "The mean decrease of impurity (MDI) is a measure of variable importance for estimating a target variable. The MDI is the average of the total decrease of a variable in node impurity weighted by the proportion of samples reaching that node in each individual decision tree in the random forest. Hence, it is effectively a measure of how important a variable is in estimating the value of the target variable for all trees in the forest.\n",
    "\n",
    "The MDI method requires the model to be trained to derive the importance scores. Because MDI uses the statistics obtained from the set that trained the model, it may be limited to examine the important features of the test set (https://engrxiv.org/preprint/view/1587/3274).\n",
    "\n",
    "Due to the stochastic nature of the evaluation process, we run this process multiple times and then determine the average result (https://machinelearningmastery.com/calculate-feature-importance-with-python/).\n",
    "\n",
    "## Advantages and Limitations of this Method (for our use case)\n",
    "\n",
    "MDI provides insights on which features (we refer to them as reproducibility indicators in our paper) have the most importance in classifying an ML repository as reproducible or non-reproducible (based on the provided set to train the Random Forest). Although we do not perform a repository classification with our tool, we can use these findings to assess the chosen weights for a factor's indicators.\n",
    "\n",
    "A well-known problem with the MDI approach is the bias of higher ranking the numerical features. However, for our assessment, this bias is negligible since we want to use MDI to assess the chosen weights of the indicators and not the importance of an indicator on the overall result. But there are approaches to reduce this problem (https://proceedings.neurips.cc/paper/2019/file/702cafa3bb4c9c86e4a3b6834b45aedd-Paper.pdf)."
   ]
  },
  {
   "cell_type": "markdown",
   "metadata": {},
   "source": [
    "## Imports"
   ]
  },
  {
   "cell_type": "code",
   "execution_count": 11,
   "metadata": {
    "pycharm": {
     "is_executing": true
    }
   },
   "outputs": [],
   "source": [
    "import matplotlib.pyplot as plt\n",
    "import numpy as np\n",
    "import pandas as pd\n",
    "\n",
    "from sklearn.ensemble import RandomForestClassifier\n",
    "from sklearn.impute import SimpleImputer\n",
    "from sklearn.inspection import permutation_importance\n",
    "from sklearn.compose import ColumnTransformer\n",
    "from sklearn.model_selection import train_test_split\n",
    "from sklearn.pipeline import Pipeline\n",
    "from sklearn.preprocessing import OneHotEncoder"
   ]
  },
  {
   "cell_type": "markdown",
   "metadata": {
    "collapsed": true,
    "pycharm": {
     "is_executing": true
    }
   },
   "source": [
    "## Loading the Dataset\n",
    "\n",
    "This data set is the combination of the gathered reproducible and non-reproducible data set presented and used in Chapter 6 in the thesis. Therefore, it consists of 40 entities. We labeled each entitiy with 1 if it was from the reproducible set and 0 otherwise."
   ]
  },
  {
   "cell_type": "code",
   "execution_count": 12,
   "metadata": {
    "pycharm": {
     "is_executing": true
    }
   },
   "outputs": [
    {
     "name": "stdout",
     "output_type": "stream",
     "text": [
      "    mean_readme_length  readme_links  pct_not_acc_links  dataset_found  \\\n",
      "0               222.00             3               0.00              1   \n",
      "1                83.00             4               0.00              1   \n",
      "2               141.00            14               7.14              1   \n",
      "3                79.00             4               0.00              1   \n",
      "4                68.00            29               6.90              1   \n",
      "5                41.50             5               0.00              1   \n",
      "6                46.00             2               0.00              1   \n",
      "7               103.00            24               0.00              1   \n",
      "8               131.00             4               0.00              1   \n",
      "9                23.33            10               0.00              1   \n",
      "10               26.00             4               0.00              1   \n",
      "11              126.00             1             100.00              1   \n",
      "12              161.00            31               0.00              1   \n",
      "13               83.00             1               0.00              1   \n",
      "14              134.00             2               0.00              1   \n",
      "15              292.00            19              94.74              1   \n",
      "16               80.50            10              10.00              1   \n",
      "17               15.00             1               0.00              0   \n",
      "18               26.00             0               0.00              0   \n",
      "19               81.00            12               0.00              1   \n",
      "20               90.00             1             100.00              0   \n",
      "21                0.00             0               0.00              0   \n",
      "22                2.00             0               0.00              0   \n",
      "23                2.00             1               0.00              0   \n",
      "24                7.00             2               0.00              0   \n",
      "25                4.00             1               0.00              1   \n",
      "26               32.00             1               0.00              1   \n",
      "27                0.00             0               0.00              0   \n",
      "28                2.00             0               0.00              0   \n",
      "29               11.00             0               0.00              0   \n",
      "30                9.00             1               0.00              0   \n",
      "31                2.00             0               0.00              0   \n",
      "32                4.00             1               0.00              0   \n",
      "33                0.00             0               0.00              0   \n",
      "34               21.00             3               0.00              1   \n",
      "35               18.00             0               0.00              0   \n",
      "36                6.00             1               0.00              0   \n",
      "37                3.00             0               0.00              0   \n",
      "38               18.00             2               0.00              1   \n",
      "39                0.00             0               0.00              0   \n",
      "\n",
      "    licences  os_licenses  mean_CCR  mean_pylint_score  rdm_seed_lines  \\\n",
      "0          1            1      6.44               3.61              42   \n",
      "1          0            0      4.40               7.53              33   \n",
      "2          1            1      1.36               4.66              11   \n",
      "3          1            1      1.59               5.24               4   \n",
      "4          1            1      8.73               5.62              13   \n",
      "5          1            1      3.32               5.80               6   \n",
      "6          1            1      7.72               3.64               5   \n",
      "7          1            1      5.27               5.94               4   \n",
      "8          1            1      8.01              -6.19               3   \n",
      "9          2            2      3.29               6.45               0   \n",
      "10         1            1      7.98               2.97              16   \n",
      "11         1            1      1.08               7.17               3   \n",
      "12         1            1      6.05               6.32               8   \n",
      "13         1            1      8.86              -1.40               3   \n",
      "14         1            1    507.00               5.42               9   \n",
      "15         1            1      5.41               6.01               9   \n",
      "16         1            1     52.50               6.40              16   \n",
      "17         1            1      4.18               3.37              41   \n",
      "18         1            1      4.75               5.89               2   \n",
      "19         0            0     13.40               6.78               7   \n",
      "20         1            1      1.07               0.00               3   \n",
      "21         0            0      0.77              -7.00               0   \n",
      "22         0            0      5.86               5.49               1   \n",
      "23         1            1      2.82               3.67               0   \n",
      "24         1            1      4.41               4.84               0   \n",
      "25         0            0      6.02               4.58               0   \n",
      "26         1            1      4.25               0.99               2   \n",
      "27         1            1     27.50               3.18               4   \n",
      "28         0            0      5.61               1.50               8   \n",
      "29         0            0      7.84               0.00               0   \n",
      "30         1            1      1.50               3.75               1   \n",
      "31         0            0     18.80               5.86               0   \n",
      "32         0            0      6.08              -1.14               0   \n",
      "33         0            0      4.77               0.03               1   \n",
      "34         0            0      3.86              -1.49               3   \n",
      "35         1            1     11.71               6.22              12   \n",
      "36         1            1     25.56               7.34              13   \n",
      "37         0            0     16.18              -2.74              10   \n",
      "38         0            0      4.33               4.66               4   \n",
      "39         0            0     22.60               5.35               0   \n",
      "\n",
      "    pct_fixed_rdm_seed  MS_used  HPL_used  pct_pub_avail_libs  \\\n",
      "0               100.00        1         0              100.00   \n",
      "1               100.00        0         0              100.00   \n",
      "2               100.00        1         0              100.00   \n",
      "3                75.00        0         0               88.89   \n",
      "4               100.00        0         0              100.00   \n",
      "5               100.00        0         1               80.00   \n",
      "6               100.00        1         0              100.00   \n",
      "7               100.00        1         0               90.91   \n",
      "8               100.00        1         0              100.00   \n",
      "9                 0.00        1         0               87.50   \n",
      "10              100.00        1         0               88.89   \n",
      "11              100.00        0         0              100.00   \n",
      "12              100.00        1         0               94.74   \n",
      "13              100.00        1         0              100.00   \n",
      "14              100.00        0         0              100.00   \n",
      "15              100.00        1         0               83.33   \n",
      "16              100.00        1         0              100.00   \n",
      "17              100.00        1         0              100.00   \n",
      "18              100.00        0         0              100.00   \n",
      "19              100.00        0         0              100.00   \n",
      "20              100.00        0         0              100.00   \n",
      "21                0.00        0         0              100.00   \n",
      "22                0.00        0         0              100.00   \n",
      "23                0.00        1         0              100.00   \n",
      "24                0.00        0         0              100.00   \n",
      "25                0.00        0         0              100.00   \n",
      "26               50.00        1         0              100.00   \n",
      "27              100.00        1         0               83.33   \n",
      "28              100.00        0         0              100.00   \n",
      "29                0.00        0         0              100.00   \n",
      "30              100.00        0         0              100.00   \n",
      "31                0.00        0         0              100.00   \n",
      "32                0.00        0         0              100.00   \n",
      "33              100.00        0         0               70.00   \n",
      "34               33.33        0         0              100.00   \n",
      "35               83.33        0         0               91.67   \n",
      "36               76.92        0         0               88.89   \n",
      "37              100.00        1         0               92.86   \n",
      "38               75.00        0         0               60.00   \n",
      "39                0.00        0         0              100.00   \n",
      "\n",
      "    pct_strict_decl_in_conf  pct_decl_in_conf_of_used_in_sc  reproducible  \n",
      "0                    100.00                           87.50             1  \n",
      "1                    100.00                           53.85             1  \n",
      "2                    100.00                          100.00             1  \n",
      "3                      0.00                           44.44             1  \n",
      "4                     40.00                           50.00             1  \n",
      "5                    100.00                           26.67             1  \n",
      "6                    100.00                           18.18             1  \n",
      "7                     10.00                           63.64             1  \n",
      "8                     33.33                           60.00             1  \n",
      "9                    100.00                           25.00             1  \n",
      "10                   100.00                           66.67             1  \n",
      "11                    50.00                          100.00             1  \n",
      "12                     0.00                           36.84             1  \n",
      "13                     0.00                           80.00             1  \n",
      "14                   100.00                          100.00             1  \n",
      "15                   100.00                           50.00             1  \n",
      "16                   100.00                           66.67             1  \n",
      "17                     0.00                            0.00             1  \n",
      "18                     0.00                            0.00             1  \n",
      "19                     0.00                            0.00             1  \n",
      "20                    25.00                           80.00             0  \n",
      "21                     0.00                            0.00             0  \n",
      "22                     0.00                            0.00             0  \n",
      "23                     0.00                            0.00             0  \n",
      "24                     0.00                            0.00             0  \n",
      "25                     0.00                            0.00             0  \n",
      "26                     0.00                            0.00             0  \n",
      "27                     0.00                            0.00             0  \n",
      "28                     0.00                            0.00             0  \n",
      "29                     0.00                            0.00             0  \n",
      "30                     0.00                            0.00             0  \n",
      "31                     0.00                            0.00             0  \n",
      "32                    93.75                           66.67             0  \n",
      "33                     0.00                            0.00             0  \n",
      "34                     0.00                            0.00             0  \n",
      "35                   100.00                           75.00             0  \n",
      "36                   100.00                           77.78             0  \n",
      "37                     0.00                            0.00             0  \n",
      "38                     0.00                            0.00             0  \n",
      "39                     0.00                            0.00             0  \n"
     ]
    }
   ],
   "source": [
    "df = pd.read_csv('feature_ranking_ds.csv')\n",
    "\n",
    "print(df)"
   ]
  },
  {
   "cell_type": "markdown",
   "metadata": {},
   "source": [
    "## Training the Model"
   ]
  },
  {
   "cell_type": "code",
   "execution_count": 13,
   "metadata": {
    "pycharm": {
     "is_executing": true
    }
   },
   "outputs": [
    {
     "name": "stdout",
     "output_type": "stream",
     "text": [
      "RF train accuracy: 1.000\n",
      "RF test accuracy: 1.000\n"
     ]
    }
   ],
   "source": [
    "# dropping reproducible from X as this is our target\n",
    "X = df.drop(columns='reproducible')\n",
    "\n",
    "# target\n",
    "y = df.reproducible\n",
    "\n",
    "categorical_columns = [\"dataset_found\", \"MS_used\", \"HPL_used\"]\n",
    "\n",
    "numerical_columns = [\"mean_readme_length\", \"readme_links\", \"pct_not_acc_links\", \"licences\",\n",
    "                     \"os_licenses\", \"mean_CCR\", \"mean_pylint_score\", \"rdm_seed_lines\", \"pct_fixed_rdm_seed\",\n",
    "                     \"pct_pub_avail_libs\", \"pct_strict_decl_in_conf\", \"pct_decl_in_conf_of_used_in_sc\"]\n",
    "\n",
    "X = X[categorical_columns + numerical_columns]\n",
    "\n",
    "X_train, X_test, y_train, y_test = train_test_split(X, y, stratify=y, random_state=9)\n",
    "\n",
    "categorical_encoder = OneHotEncoder(handle_unknown=\"ignore\")\n",
    "# SimpleImputer would insert the column mean if a value would be missing\n",
    "numerical_pipe = Pipeline([(\"imputer\", SimpleImputer(strategy=\"mean\"))])\n",
    "\n",
    "preprocessing = ColumnTransformer(\n",
    "    [\n",
    "        (\"cat\", categorical_encoder, categorical_columns),\n",
    "        (\"num\", numerical_pipe, numerical_columns),\n",
    "    ]\n",
    ")\n",
    "\n",
    "rf = Pipeline(\n",
    "    [\n",
    "        (\"preprocess\", preprocessing),\n",
    "        (\"classifier\", RandomForestClassifier(random_state=18)),\n",
    "    ]\n",
    ")\n",
    "\n",
    "rf.fit(X_train, y_train)\n",
    "\n",
    "print(\"RF train accuracy: %0.3f\" % rf.score(X_train, y_train))\n",
    "print(\"RF test accuracy: %0.3f\" % rf.score(X_test, y_test))"
   ]
  },
  {
   "cell_type": "markdown",
   "metadata": {},
   "source": [
    "## Prediction Score\n",
    "\n",
    "Before evaluating feature importance scores, one should ensure that the model created has satisfactory predictive power. An analysis of the results produced by a non-predictive model would not be meaningful.\n",
    "\n",
    "For this example we opted for random_state=9 as then the test and train accuracy is 1.000 (see above).\n",
    "\n",
    "But as already explained, we will evaluate several runs (with different seeds) to determine the final feature importance scores (due to the stochastic nature of the evaluation process)."
   ]
  },
  {
   "cell_type": "markdown",
   "metadata": {},
   "source": [
    "## Random Forest Feature Importance Ranking"
   ]
  },
  {
   "cell_type": "code",
   "execution_count": 16,
   "metadata": {
    "pycharm": {
     "is_executing": true
    }
   },
   "outputs": [
    {
     "data": {
      "image/png": "[encoded data removed]",
      "text/plain": [
       "<Figure size 432x288 with 1 Axes>"
      ]
     },
     "metadata": {
      "needs_background": "light"
     },
     "output_type": "display_data"
    }
   ],
   "source": [
    "ohe = rf.named_steps[\"preprocess\"].named_transformers_[\"cat\"]\n",
    "feature_names = ohe.get_feature_names_out(categorical_columns)\n",
    "feature_names = np.r_[feature_names, numerical_columns]\n",
    "\n",
    "tree_feature_importances = rf.named_steps[\"classifier\"].feature_importances_\n",
    "sorted_idx = tree_feature_importances.argsort()\n",
    "\n",
    "y_ticks = np.arange(0, len(feature_names))\n",
    "fig, ax = plt.subplots()\n",
    "ax.barh(y_ticks, tree_feature_importances[sorted_idx])\n",
    "ax.set_yticks(y_ticks)\n",
    "ax.set_yticklabels(feature_names[sorted_idx])\n",
    "ax.set_title(\"Random Forest Feature Importances (MDI)\")\n",
    "fig.tight_layout()\n",
    "plt.show()"
   ]
  },
  {
   "cell_type": "markdown",
   "metadata": {},
   "source": [
    "## Final Feature Importance Scores\n",
    "\n",
    "As already discussed, we performed the above process several times (ten times) and averaged the values obtained. We have documented the results of each pass along with the seed used in feature_importance_calculations.txt.\n",
    "\n",
    "We saved these average values ​​in feature_importance_means.csv. The final plot is then created using this file (see below)."
   ]
  },
  {
   "cell_type": "code",
   "execution_count": 17,
   "metadata": {
    "pycharm": {
     "is_executing": true
    },
    "scrolled": true
   },
   "outputs": [
    {
     "data": {
      "image/png": "[encoded data removed]",
      "text/plain": [
       "<Figure size 432x288 with 1 Axes>"
      ]
     },
     "metadata": {
      "needs_background": "light"
     },
     "output_type": "display_data"
    }
   ],
   "source": [
    "import csv\n",
    "  \n",
    "x = []\n",
    "y = []\n",
    "  \n",
    "with open('feature_importance_means.csv','r') as csvfile:\n",
    "    plots = csv.reader(csvfile, delimiter = ',')\n",
    "      \n",
    "    for row in plots:\n",
    "        y.append(row[0])\n",
    "        x.append(float(row[1]))\n",
    "\n",
    "plt.barh(y,x)\n",
    "plt.title('Mean of Random Forest Feature Importances (MDI) from 10 runs.')\n",
    "plt.ylabel('Features')\n",
    "plt.xlabel('Impurity-based feature importance')\n",
    "plt.savefig(\"MDI.pdf\", format=\"pdf\", bbox_inches=\"tight\")\n",
    "plt.show()"
   ]
  },
  {
   "cell_type": "markdown",
   "metadata": {},
   "source": [
    "## Plot Interpretation\n",
    "\n",
    "\n",
    "Before one evaluates this plot, it should be clear what exactly these values mean. The larger the displayed value of a feature, the more important it is for the correct determination of the target value (reproducible or non-reproducible). It is important to mention here that numerical values are preferred by the MDI approach (MDI feature selection bias).\n",
    "\n",
    "However, as already discussed in the introduction sections of this notebook, this is not particularly important for us, since we are interested in checking the weights chosen for the indicators of a factor. In Chapter 6 of the thesis, we presented our approach to connecting the factors with the assigned indicators. If a factor has multiple indicators, it is important to determine the impact of each indicator on the overall factor. For this purpose, we justified our chosen weights with the help of statistical analysis and additional argumention. \n",
    "\n",
    "With the help of the determined feature importance scores, we can check whether the weights we assigned agree with these results. In Chapter 7 of the thesis, we use this plot and the determined scores."
   ]
  }
 ],
 "metadata": {
  "kernelspec": {
   "display_name": "Python 3",
   "language": "python",
   "name": "python3"
  },
  "language_info": {
   "codemirror_mode": {
    "name": "ipython",
    "version": 3
   },
   "file_extension": ".py",
   "mimetype": "text/x-python",
   "name": "python",
   "nbconvert_exporter": "python",
   "pygments_lexer": "ipython3",
   "version": "3.7.5"
  }
 },
 "nbformat": 4,
 "nbformat_minor": 1
}