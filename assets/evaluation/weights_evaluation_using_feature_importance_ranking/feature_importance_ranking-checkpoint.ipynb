{
 "cells": [
  {
   "cell_type": "markdown",
   "metadata": {},
   "source": [
    "# Reproducibility Indicator Feature Importance Ranking and Permutation Importances\n",
    "\n",
    "\"In this example, we will compare the impurity-based feature importance of RandomForestClassifier with the permutation importance on the titanic dataset using permutation_importance. We will show that the impurity-based feature importance can inflate the importance of numerical features.\n",
    "\n",
    "Furthermore, the impurity-based feature importance of random forests suffers from being computed on statistics derived from the training dataset: the importances can be high even for features that are not predictive of the target variable, as long as the model has the capacity to use them to overfit.\" Quote from source\n",
    "\n",
    "We adapted the example from: SOURCE: https://scikit-learn.org/stable/auto_examples/inspection/plot_permutation_importance.html"
   ]
  },
  {
   "cell_type": "markdown",
   "metadata": {},
   "source": [
    "## Imports"
   ]
  },
  {
   "cell_type": "code",
   "execution_count": 23,
   "metadata": {},
   "outputs": [],
   "source": [
    "import matplotlib.pyplot as plt\n",
    "import numpy as np\n",
    "import pandas as pd\n",
    "\n",
    "from sklearn.ensemble import RandomForestClassifier\n",
    "from sklearn.impute import SimpleImputer\n",
    "from sklearn.inspection import permutation_importance\n",
    "from sklearn.compose import ColumnTransformer\n",
    "from sklearn.model_selection import train_test_split\n",
    "from sklearn.pipeline import Pipeline"
   ]
  },
  {
   "cell_type": "markdown",
   "metadata": {
    "collapsed": true,
    "pycharm": {
     "is_executing": true
    }
   },
   "source": [
    "## Loading the Dataset"
   ]
  },
  {
   "cell_type": "code",
   "execution_count": 24,
   "metadata": {},
   "outputs": [
    {
     "name": "stdout",
     "output_type": "stream",
     "text": [
      "    avg_readme_length  readme_links  pct_not_acc_links  readme_ds_reference  \\\n",
      "0              222.00             3               0.00                    1   \n",
      "1               83.00             4               0.00                    0   \n",
      "2              141.00            14               7.14                    1   \n",
      "3               79.00             4               0.00                    0   \n",
      "4               68.00            29               6.90                    1   \n",
      "5               41.50             5               0.00                    1   \n",
      "6               46.00             2               0.00                    1   \n",
      "7              103.00            24               0.00                    1   \n",
      "8              131.00             4               0.00                    1   \n",
      "9               23.33            10               0.00                    0   \n",
      "10              26.00             4               0.00                    1   \n",
      "11             126.00             1             100.00                    0   \n",
      "12             161.00            31               0.00                    1   \n",
      "13              83.00             1               0.00                    0   \n",
      "14             134.00             2               0.00                    1   \n",
      "15             292.00            19              94.74                    1   \n",
      "16              80.50            10              10.00                    1   \n",
      "17              15.00             1               0.00                    0   \n",
      "18              26.00             0               0.00                    0   \n",
      "19              81.00            12               0.00                    1   \n",
      "20              90.00             1             100.00                    0   \n",
      "21               0.00             0               0.00                    0   \n",
      "22               2.00             0               0.00                    0   \n",
      "23               2.00             1               0.00                    0   \n",
      "24               7.00             2               0.00                    0   \n",
      "25               4.00             1               0.00                    1   \n",
      "26              32.00             1               0.00                    1   \n",
      "27               0.00             0               0.00                    0   \n",
      "28               2.00             0               0.00                    0   \n",
      "29              11.00             0               0.00                    0   \n",
      "30               9.00             1               0.00                    0   \n",
      "31               2.00             0               0.00                    0   \n",
      "32               4.00             1               0.00                    0   \n",
      "33               0.00             0               0.00                    0   \n",
      "34              21.00             3               0.00                    1   \n",
      "35              18.00             0               0.00                    0   \n",
      "36               6.00             1               0.00                    0   \n",
      "37               3.00             0               0.00                    0   \n",
      "38              18.00             2               0.00                    1   \n",
      "39               0.00             0               0.00                    0   \n",
      "\n",
      "    licences  os_licenses  avg_CCR  avg_pylint_score  rdm_seed_lines  \\\n",
      "0          1            1     6.44              3.61              42   \n",
      "1          0            0     4.40              7.53              33   \n",
      "2          1            1     1.36              4.66              11   \n",
      "3          1            1     1.59              5.24               4   \n",
      "4          1            1     8.73              5.62              13   \n",
      "5          1            1     3.32              5.80               6   \n",
      "6          1            1     7.72              3.64               5   \n",
      "7          1            1     5.27              5.94               4   \n",
      "8          1            1     8.01             -6.19               3   \n",
      "9          2            2     3.29              6.45               0   \n",
      "10         1            1     7.98              2.97              16   \n",
      "11         1            1     1.08              7.17               3   \n",
      "12         1            1     6.05              6.32               8   \n",
      "13         1            1     8.86             -1.40               3   \n",
      "14         1            1   507.00              5.42               9   \n",
      "15         1            1     5.41              6.01               9   \n",
      "16         1            1    52.50              6.40              16   \n",
      "17         1            1     4.18              3.37              41   \n",
      "18         1            1     4.75              5.89               2   \n",
      "19         0            0    13.40              6.78               7   \n",
      "20         1            1     1.07              0.00               3   \n",
      "21         0            0     0.77             -7.00               0   \n",
      "22         0            0     5.86              5.49               1   \n",
      "23         1            1     2.82              3.67               0   \n",
      "24         1            1     4.41              4.84               0   \n",
      "25         0            0     6.02              4.58               0   \n",
      "26         1            1     4.25              0.99               2   \n",
      "27         1            1    27.50              3.18               4   \n",
      "28         0            0     5.61              1.50               8   \n",
      "29         0            0     7.84              0.00               0   \n",
      "30         1            1     1.50              3.75               1   \n",
      "31         0            0    18.80              5.86               0   \n",
      "32         0            0     6.08             -1.14               0   \n",
      "33         0            0     4.77              0.03               1   \n",
      "34         0            0     3.86             -1.49               3   \n",
      "35         1            1    11.71              6.22              12   \n",
      "36         1            1    25.56              7.34              13   \n",
      "37         0            0    16.18             -2.74              10   \n",
      "38         0            0     4.33              4.66               4   \n",
      "39         0            0    22.60              5.35               0   \n",
      "\n",
      "    pct_fixed_rdm_seed  MS_used  HP-logging_indicators  pct_pub_avail_libs  \\\n",
      "0               100.00        1                      0              100.00   \n",
      "1               100.00        0                      0              100.00   \n",
      "2               100.00        1                      0              100.00   \n",
      "3                75.00        0                      0               88.89   \n",
      "4               100.00        0                      0              100.00   \n",
      "5               100.00        0                     18               80.00   \n",
      "6               100.00        1                      0              100.00   \n",
      "7               100.00        1                      0               90.91   \n",
      "8               100.00        1                      0              100.00   \n",
      "9                 0.00        1                      0               87.50   \n",
      "10              100.00        1                      0               88.89   \n",
      "11              100.00        0                      0              100.00   \n",
      "12              100.00        1                      0               94.74   \n",
      "13              100.00        1                      0              100.00   \n",
      "14              100.00        0                      0              100.00   \n",
      "15              100.00        1                      0               83.33   \n",
      "16              100.00        1                      0              100.00   \n",
      "17              100.00        1                      0              100.00   \n",
      "18              100.00        0                      0              100.00   \n",
      "19              100.00        0                      0              100.00   \n",
      "20              100.00        0                      0              100.00   \n",
      "21                0.00        0                      0              100.00   \n",
      "22                0.00        0                      0              100.00   \n",
      "23                0.00        1                      0              100.00   \n",
      "24                0.00        0                      0              100.00   \n",
      "25                0.00        0                      0              100.00   \n",
      "26               50.00        1                      0              100.00   \n",
      "27              100.00        1                      0               83.33   \n",
      "28              100.00        0                      0              100.00   \n",
      "29                0.00        0                      0              100.00   \n",
      "30              100.00        0                      0              100.00   \n",
      "31                0.00        0                      0              100.00   \n",
      "32                0.00        0                      0              100.00   \n",
      "33              100.00        0                      0               70.00   \n",
      "34               33.33        0                      0              100.00   \n",
      "35               83.33        0                      0               91.67   \n",
      "36               76.92        0                      0               88.89   \n",
      "37              100.00        1                      0               92.86   \n",
      "38               75.00        0                      0               60.00   \n",
      "39                0.00        0                      0              100.00   \n",
      "\n",
      "    config_files  pct_strict_decl_in_conf  pct_decl_in_conf_of_used_in_sc  \\\n",
      "0              1                   100.00                           87.50   \n",
      "1              1                   100.00                           53.85   \n",
      "2              1                   100.00                          100.00   \n",
      "3              1                     0.00                           44.44   \n",
      "4              2                    40.00                           50.00   \n",
      "5              1                   100.00                           26.67   \n",
      "6              1                   100.00                           18.18   \n",
      "7              1                    10.00                           63.64   \n",
      "8              1                    33.33                           60.00   \n",
      "9              1                   100.00                           25.00   \n",
      "10             1                   100.00                           66.67   \n",
      "11             1                    50.00                          100.00   \n",
      "12             1                     0.00                           36.84   \n",
      "13             1                     0.00                           80.00   \n",
      "14             1                   100.00                          100.00   \n",
      "15             1                   100.00                           50.00   \n",
      "16             1                   100.00                           66.67   \n",
      "17             0                     0.00                            0.00   \n",
      "18             0                     0.00                            0.00   \n",
      "19             0                     0.00                            0.00   \n",
      "20             1                    25.00                           80.00   \n",
      "21             0                     0.00                            0.00   \n",
      "22             0                     0.00                            0.00   \n",
      "23             0                     0.00                            0.00   \n",
      "24             0                     0.00                            0.00   \n",
      "25             0                     0.00                            0.00   \n",
      "26             0                     0.00                            0.00   \n",
      "27             0                     0.00                            0.00   \n",
      "28             0                     0.00                            0.00   \n",
      "29             0                     0.00                            0.00   \n",
      "30             0                     0.00                            0.00   \n",
      "31             0                     0.00                            0.00   \n",
      "32             1                    93.75                           66.67   \n",
      "33             0                     0.00                            0.00   \n",
      "34             0                     0.00                            0.00   \n",
      "35             1                   100.00                           75.00   \n",
      "36             1                   100.00                           77.78   \n",
      "37             0                     0.00                            0.00   \n",
      "38             0                     0.00                            0.00   \n",
      "39             0                     0.00                            0.00   \n",
      "\n",
      "    DSFC_in_sc  reproducible  \n",
      "0            2             1  \n",
      "1            3             1  \n",
      "2            1             1  \n",
      "3            1             1  \n",
      "4            0             1  \n",
      "5            7             1  \n",
      "6            1             1  \n",
      "7            1             1  \n",
      "8            0             1  \n",
      "9            6             1  \n",
      "10           3             1  \n",
      "11           1             1  \n",
      "12           2             1  \n",
      "13           3             1  \n",
      "14           1             1  \n",
      "15           0             1  \n",
      "16           9             1  \n",
      "17           0             1  \n",
      "18           0             1  \n",
      "19           0             1  \n",
      "20           0             0  \n",
      "21           0             0  \n",
      "22           0             0  \n",
      "23           0             0  \n",
      "24           0             0  \n",
      "25           0             0  \n",
      "26           0             0  \n",
      "27           0             0  \n",
      "28           0             0  \n",
      "29           0             0  \n",
      "30           0             0  \n",
      "31           0             0  \n",
      "32           0             0  \n",
      "33           0             0  \n",
      "34           0             0  \n",
      "35           0             0  \n",
      "36           0             0  \n",
      "37           0             0  \n",
      "38           0             0  \n",
      "39           0             0  \n"
     ]
    }
   ],
   "source": [
    "df = pd.read_csv('feature_ranking_ds.csv')\n",
    "\n",
    "print(df)"
   ]
  },
  {
   "cell_type": "markdown",
   "metadata": {},
   "source": [
    "## Training the Model"
   ]
  },
  {
   "cell_type": "code",
   "execution_count": 25,
   "metadata": {},
   "outputs": [
    {
     "name": "stdout",
     "output_type": "stream",
     "text": [
      "RF train accuracy: 1.000\n",
      "RF test accuracy: 1.000\n"
     ]
    }
   ],
   "source": [
    "# dropping reproducible from X as this is our target\n",
    "X = df.drop(columns='reproducible')\n",
    "\n",
    "# target\n",
    "y = df.reproducible\n",
    "\n",
    "numerical_columns = [\"avg_readme_length\", \"readme_links\", \"pct_not_acc_links\", \"readme_ds_reference\", \"licences\",\n",
    "                     \"os_licenses\", \"avg_CCR\", \"avg_pylint_score\", \"rdm_seed_lines\", \"pct_fixed_rdm_seed\",\n",
    "                     \"MS_used\", \"HP-logging_indicators\", \"pct_pub_avail_libs\", \"config_files\",\n",
    "                     \"pct_strict_decl_in_conf\", \"pct_decl_in_conf_of_used_in_sc\", \"DSFC_in_sc\"]\n",
    "\n",
    "X = X[numerical_columns]\n",
    "\n",
    "X_train, X_test, y_train, y_test = train_test_split(X, y, stratify=y, random_state=9)\n",
    "\n",
    "# SimpleImputer would insert the column mean if a value would be missing\n",
    "numerical_pipe = Pipeline([(\"imputer\", SimpleImputer(strategy=\"mean\"))])\n",
    "\n",
    "preprocessing = ColumnTransformer(\n",
    "    [\n",
    "        (\"num\", numerical_pipe, numerical_columns),\n",
    "    ]\n",
    ")\n",
    "\n",
    "rf = Pipeline(\n",
    "    [\n",
    "        (\"preprocess\", preprocessing),\n",
    "        (\"classifier\", RandomForestClassifier(random_state=9)),\n",
    "    ]\n",
    ")\n",
    "\n",
    "rf.fit(X_train, y_train)\n",
    "\n",
    "print(\"RF train accuracy: %0.3f\" % rf.score(X_train, y_train))\n",
    "print(\"RF test accuracy: %0.3f\" % rf.score(X_test, y_test))"
   ]
  },
  {
   "cell_type": "markdown",
   "metadata": {},
   "source": [
    "\"Prior to inspecting the feature importances, it is important to check that the model predictive performance is high enough. Indeed there would be little interest of inspecting the important features of a non-predictive model. Here one can observe that the train accuracy is very high (the forest model has enough capacity to completely memorize the training set) but it can still generalize well enough to the test set thanks to the built-in bagging of random forests. \" quote from source\n",
    "\n",
    "We opted for random_state=9 as the test and train accuracy is 1.000 (see above).\n",
    "\n",
    "Regarding the Random Forest Feature Importances and Permutation Importances:\n",
    "> \"Note: Your results may vary given the stochastic nature of the algorithm or evaluation procedure, or differences in numerical precision. Consider running the example a few times and compare the average outcome.\" source: https://machinelearningmastery.com/calculate-feature-importance-with-python/ (using different seeds)"
   ]
  },
  {
   "cell_type": "markdown",
   "metadata": {},
   "source": [
    "## Random Forest Feature Importance Ranking"
   ]
  },
  {
   "cell_type": "code",
   "execution_count": 26,
   "metadata": {},
   "outputs": [
    {
     "data": {
      "image/png": "[encoded data removed]",
      "text/plain": [
       "<Figure size 432x288 with 1 Axes>"
      ]
     },
     "metadata": {
      "needs_background": "light"
     },
     "output_type": "display_data"
    }
   ],
   "source": [
    "feature_names = np.r_[numerical_columns]\n",
    "\n",
    "tree_feature_importances = rf.named_steps[\"classifier\"].feature_importances_\n",
    "sorted_idx = tree_feature_importances.argsort()\n",
    "\n",
    "y_ticks = np.arange(0, len(feature_names))\n",
    "fig, ax = plt.subplots()\n",
    "ax.barh(y_ticks, tree_feature_importances[sorted_idx])\n",
    "ax.set_yticks(y_ticks)\n",
    "ax.set_yticklabels(feature_names[sorted_idx])\n",
    "ax.set_title(\"Random Forest Feature Importances (MDI)\")\n",
    "fig.tight_layout()\n",
    "plt.show()"
   ]
  },
  {
   "cell_type": "markdown",
   "metadata": {},
   "source": [
    "## Permutation Importances"
   ]
  },
  {
   "cell_type": "code",
   "execution_count": 27,
   "metadata": {},
   "outputs": [
    {
     "data": {
      "image/png": "[encoded data removed]",
      "text/plain": [
       "<Figure size 432x288 with 1 Axes>"
      ]
     },
     "metadata": {
      "needs_background": "light"
     },
     "output_type": "display_data"
    }
   ],
   "source": [
    "result = permutation_importance(\n",
    "    rf, X_train, y_train, n_repeats=10, random_state=9, n_jobs=2\n",
    ")\n",
    "sorted_idx = result.importances_mean.argsort()\n",
    "\n",
    "fig, ax = plt.subplots()\n",
    "ax.boxplot(\n",
    "    result.importances[sorted_idx].T, vert=False, labels=X_train.columns[sorted_idx]\n",
    ")\n",
    "ax.set_title(\"Permutation Importances (train set)\")\n",
    "fig.tight_layout()\n",
    "plt.show()"
   ]
  },
  {
   "cell_type": "code",
   "execution_count": 28,
   "metadata": {
    "scrolled": true
   },
   "outputs": [
    {
     "data": {
      "image/png": "[encoded data removed]",
      "text/plain": [
       "<Figure size 432x288 with 1 Axes>"
      ]
     },
     "metadata": {
      "needs_background": "light"
     },
     "output_type": "display_data"
    }
   ],
   "source": [
    "result = permutation_importance(\n",
    "    rf, X_test, y_test, n_repeats=10, random_state=9, n_jobs=2\n",
    ")\n",
    "sorted_idx = result.importances_mean.argsort()\n",
    "\n",
    "fig, ax = plt.subplots()\n",
    "ax.boxplot(\n",
    "    result.importances[sorted_idx].T, vert=False, labels=X_test.columns[sorted_idx]\n",
    ")\n",
    "ax.set_title(\"Permutation Importances (test set)\")\n",
    "fig.tight_layout()\n",
    "plt.show()"
   ]
  },
  {
   "cell_type": "markdown",
   "metadata": {},
   "source": [
    "## Conclusion"
   ]
  }
 ],
 "metadata": {
  "kernelspec": {
   "display_name": "Python 3",
   "language": "python",
   "name": "python3"
  },
  "language_info": {
   "codemirror_mode": {
    "name": "ipython",
    "version": 3
   },
   "file_extension": ".py",
   "mimetype": "text/x-python",
   "name": "python",
   "nbconvert_exporter": "python",
   "pygments_lexer": "ipython3",
   "version": "3.7.5"
  }
 },
 "nbformat": 4,
 "nbformat_minor": 1
}
